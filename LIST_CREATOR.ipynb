{
 "cells": [
  {
   "cell_type": "code",
   "execution_count": 1,
   "metadata": {},
   "outputs": [
    {
     "data": {
      "text/plain": [
       "['member_list.py', 'buckup', 'desktop.ini']"
      ]
     },
     "execution_count": 1,
     "metadata": {},
     "output_type": "execute_result"
    }
   ],
   "source": [
    "import os\n",
    "from dotenv import load_dotenv\n",
    "load_dotenv()\n",
    "G_DRIVE_PATH = os.getenv('G_DRIVE_PATH')\n",
    "os.listdir(G_DRIVE_PATH)"
   ]
  },
  {
   "cell_type": "code",
   "execution_count": 2,
   "metadata": {},
   "outputs": [],
   "source": [
    "from member_list import members"
   ]
  },
  {
   "cell_type": "code",
   "execution_count": 3,
   "metadata": {},
   "outputs": [],
   "source": [
    "from collections import deque\n",
    "items = deque([1, 2, 3, 4, 5, 6, ])\n",
    "def get_id(member): \n",
    "    items.rotate(-1)\n",
    "    return '_' + str(items[-1])"
   ]
  },
  {
   "cell_type": "code",
   "execution_count": 4,
   "metadata": {},
   "outputs": [],
   "source": [
    "def create_usr_dict(self_member: str) -> dict:\n",
    "    list_dict = {}\n",
    "    for member in members:\n",
    "        for _ in range(7):\n",
    "            list_dict[member + get_id(member)] = '_'\n",
    "        # if member == self_member: list_dict[member + '_8'] = '_'\n",
    "    return list_dict"
   ]
  },
  {
   "cell_type": "code",
   "execution_count": 5,
   "metadata": {},
   "outputs": [],
   "source": [
    "# write list to G_DRIVE\n",
    "# import yaml\n",
    "# username = members[5]\n",
    "# filename = f'{G_DRIVE_PATH}//{username}_list.yaml'\n",
    "# with open(filename, 'w+') as f:\n",
    "#     f.write(yaml.dump(list_dict))\n",
    "    \n",
    "# # init all lists\n",
    "# import yaml\n",
    "# for username in members:\n",
    "#     filename = f'{G_DRIVE_PATH}//{username}_list.yaml'\n",
    "#     with open(filename, 'w+') as f:\n",
    "#         f.write(yaml.dump(create_usr_dict(username)))"
   ]
  },
  {
   "cell_type": "code",
   "execution_count": 31,
   "metadata": {},
   "outputs": [
    {
     "data": {
      "text/plain": [
       "[32998, 48483, 35968, 35968, 37779, 40052]"
      ]
     },
     "execution_count": 31,
     "metadata": {},
     "output_type": "execute_result"
    }
   ],
   "source": [
    "import yaml\n",
    "username = members[-1]\n",
    "# read from G_DRIVE\n",
    "filename = f'{G_DRIVE_PATH}//{username}_list.yaml'\n",
    "with open(filename, 'r') as f:\n",
    "    dl = yaml.load(f, Loader=yaml.FullLoader)\n",
    "type(dl), [ v for k,v in dl.items() if username in k]\n",
    "# left only valid ids\n",
    "[i for i in dl.values() if isinstance(i, int)]"
   ]
  },
  {
   "cell_type": "code",
   "execution_count": 57,
   "metadata": {},
   "outputs": [
    {
     "name": "stdout",
     "output_type": "stream",
     "text": [
      "{'AhresSsio_1': '_', 'AhresSsio_2': '_', 'AhresSsio_3': '_', 'AhresSsio_4': '_', 'AhresSsio_5': '_', 'AhresSsio_6': '_', 'AhresSsio_7': '_', 'Elaeagnus_1': 32998, 'Elaeagnus_2': 48483, 'Elaeagnus_3': '_', 'Elaeagnus_4': 35968, 'Elaeagnus_5': 37779, 'Elaeagnus_6': 40052, 'Elaeagnus_7': '_', 'Elaeagnus_8': '_', 'Hisame_1': '_', 'Hisame_2': '_', 'Hisame_3': '_', 'Hisame_4': '_', 'Hisame_5': '_', 'Hisame_6': '_', 'Hisame_7': '_', 'Saint_kill_1': '_', 'Saint_kill_2': '_', 'Saint_kill_3': '_', 'Saint_kill_4': '_', 'Saint_kill_5': '_', 'Saint_kill_6': '_', 'Saint_kill_7': '_', 'rengedead-_1': '_', 'rengedead-_2': '_', 'rengedead-_3': '_', 'rengedead-_4': '_', 'rengedead-_5': '_', 'rengedead-_6': '_', 'rengedead-_7': '_'}\n",
      "      id                      name_en                     name_ru  ep_max  \\\n",
      "0  32998                      91 Days                     91 день      12   \n",
      "1  48483                 Mieruko-chan  Девочка, которая видит это      12   \n",
      "2  35968  Wotaku ni Koi wa Muzukashii     Так сложно любить отаку      11   \n",
      "3  37779        Yakusoku no Neverland         Обещанный Неверленд      12   \n",
      "4  40052              Great Pretender          Великий притворщик      23   \n",
      "\n",
      "   from user      to user  \n",
      "0  Elaeagnus  Elaeagnus_1  \n",
      "1  Elaeagnus  Elaeagnus_2  \n",
      "2  Elaeagnus  Elaeagnus_4  \n",
      "3  Elaeagnus  Elaeagnus_5  \n",
      "4  Elaeagnus  Elaeagnus_6  \n"
     ]
    }
   ],
   "source": [
    "from SHIKI_API import ShiNoAuth, ShiAuth\n",
    "a = ShiNoAuth()\n",
    "# for username in members:\n",
    "username = members[-1]\n",
    "if 1:\n",
    "    # read yaml file of member to list of ids\n",
    "    \n",
    "    # read from G_DRIVE\n",
    "    filename = f'{G_DRIVE_PATH}//{username}_list.yaml'\n",
    "    with open(filename, 'r') as f:\n",
    "        dl = yaml.load(f, Loader=yaml.FullLoader)\n",
    "        # left only valid ids\n",
    "        ids = [i for i in dl.values() if isinstance(i, int)]\n",
    "    # get df w/ titles\n",
    "    dfr = a.get_title_by_ids(ids)\n",
    "    # name of user who assigned title\n",
    "    dfr['from user'] = username\n",
    "    # user who need to watch title\n",
    "    dfr['to user'] = [key for key, val in dl.items() if isinstance(val, int)] \n"
   ]
  },
  {
   "cell_type": "code",
   "execution_count": 41,
   "metadata": {},
   "outputs": [
    {
     "name": "stdout",
     "output_type": "stream",
     "text": [
      "rengedead-\n",
      "Saint_kill\n",
      "AhresSsio\n",
      "Hisame\n",
      "Elaeagnus\n"
     ]
    }
   ],
   "source": [
    "items = deque(members)\n",
    "for username in members:\n",
    "    print (username)\n"
   ]
  }
 ],
 "metadata": {
  "interpreter": {
   "hash": "1687936d6353d22bca9506b6e8c73c561f18a996b286925e3477401c8213fb94"
  },
  "kernelspec": {
   "display_name": "Python 3.9.9 64-bit (windows store)",
   "language": "python",
   "name": "python3"
  },
  "language_info": {
   "codemirror_mode": {
    "name": "ipython",
    "version": 3
   },
   "file_extension": ".py",
   "mimetype": "text/x-python",
   "name": "python",
   "nbconvert_exporter": "python",
   "pygments_lexer": "ipython3",
   "version": "3.9.9"
  },
  "orig_nbformat": 4
 },
 "nbformat": 4,
 "nbformat_minor": 2
}
