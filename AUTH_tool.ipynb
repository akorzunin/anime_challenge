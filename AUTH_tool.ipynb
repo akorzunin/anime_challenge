{
 "cells": [
  {
   "cell_type": "code",
   "execution_count": 1,
   "metadata": {},
   "outputs": [
    {
     "data": {
      "text/plain": [
       "True"
      ]
     },
     "execution_count": 1,
     "metadata": {},
     "output_type": "execute_result"
    }
   ],
   "source": [
    "from shikimori_api import Shikimori\n",
    "import json\n",
    "import os\n",
    "from dotenv import load_dotenv\n",
    "load_dotenv()\n"
   ]
  },
  {
   "cell_type": "code",
   "execution_count": 2,
   "metadata": {},
   "outputs": [
    {
     "name": "stdout",
     "output_type": "stream",
     "text": [
      "https://shikimori.one/oauth/authorize?response_type=code&client_id=vaI1KJnVArn8hRqbQqXdFD5uutb4TY1eUgS6w2mHi94&redirect_uri=urn%3Aietf%3Awg%3Aoauth%3A2.0%3Aoob&state=31y9hhRB72Q90aj0CqzUUCQe9Qkqce\n"
     ]
    },
    {
     "data": {
      "text/plain": [
       "{'access_token': '7VBzZ2LDpEDMHR56cMhwm3cGt5BQ8RiB0PiVkx-qrrM',\n",
       " 'token_type': 'Bearer',\n",
       " 'expires_in': 86400,\n",
       " 'refresh_token': 'U0B0zyywnXR9Hq7xISVgGHyK5d5AOVkWVtTEFU92h7Y',\n",
       " 'scope': ['user_rates', 'comments', 'topics'],\n",
       " 'created_at': 1639840537,\n",
       " 'expires_at': 1639926937.1297078}"
      ]
     },
     "execution_count": 2,
     "metadata": {},
     "output_type": "execute_result"
    }
   ],
   "source": [
    "CLIENT_ID = os.getenv('CLIENT_ID')\n",
    "CLIENT_SECRET = os.getenv('CLIENT_SECRET')\n",
    "\n",
    "def token_saver(token: dict):\n",
    "    with open('token.json', 'w') as f:\n",
    "        f.write(json.dumps(token))\n",
    "\n",
    "\n",
    "session = Shikimori('APP_NAME', client_id=CLIENT_ID, client_secret=CLIENT_SECRET, token_saver=token_saver)\n",
    "# go to link from output \n",
    "print(session.get_auth_url())\n",
    "# pass given code to input field\n",
    "code = input()\n",
    "session.fetch_token(code)"
   ]
  },
  {
   "cell_type": "code",
   "execution_count": 3,
   "metadata": {},
   "outputs": [
    {
     "data": {
      "text/plain": [
       "(dict,\n",
       " '7VBzZ2LDpEDMHR56cMhwm3cGt5BQ8RiB0PiVkx-qrrM',\n",
       " {'access_token': '7VBzZ2LDpEDMHR56cMhwm3cGt5BQ8RiB0PiVkx-qrrM',\n",
       "  'token_type': 'Bearer',\n",
       "  'expires_in': 86400,\n",
       "  'refresh_token': 'U0B0zyywnXR9Hq7xISVgGHyK5d5AOVkWVtTEFU92h7Y',\n",
       "  'scope': ['user_rates', 'comments', 'topics'],\n",
       "  'created_at': 1639840537,\n",
       "  'expires_at': 1639926937.1297078})"
      ]
     },
     "execution_count": 3,
     "metadata": {},
     "output_type": "execute_result"
    }
   ],
   "source": [
    "# read the token from json file\n",
    "with open('token.json') as f:\n",
    "    token = json.load(f)\n",
    "type(token), token['access_token'], token"
   ]
  },
  {
   "cell_type": "code",
   "execution_count": 4,
   "metadata": {},
   "outputs": [],
   "source": [
    "# refresh_token exapmple\n",
    "import requests\n",
    "\n",
    "headers = {\n",
    "    'User-Agent': 'APPLICATION_NAME',\n",
    "}\n",
    "\n",
    "files = {\n",
    "    'grant_type': (None, 'refresh_token'),\n",
    "    'client_id': (None, 'CLIENT_ID'),\n",
    "    'client_secret': (None, 'CLIENT_SECRET'),\n",
    "    'refresh_token': (None, 'REFRESH_TOKEN'),\n",
    "}\n",
    "\n",
    "# response = requests.post('https://shikimori.one/oauth/token', headers=headers, files=files)\n",
    "\n",
    "# curl -X POST \"https://shikimori.one/oauth/token\" \\\n",
    "# -H \"User-Agent: APPLICATION_NAME\" \\\n",
    "# -F grant_type=\"refresh_token\" \\\n",
    "# -F client_id=\"CLIENT_ID\" \\\n",
    "# -F client_secret=\"CLIENT_SECRET\" \\\n",
    "# -F refresh_token=\"REFRESH_TOKEN\"\n"
   ]
  }
 ],
 "metadata": {
  "interpreter": {
   "hash": "1687936d6353d22bca9506b6e8c73c561f18a996b286925e3477401c8213fb94"
  },
  "kernelspec": {
   "display_name": "Python 3.9.9 64-bit (windows store)",
   "language": "python",
   "name": "python3"
  },
  "language_info": {
   "codemirror_mode": {
    "name": "ipython",
    "version": 3
   },
   "file_extension": ".py",
   "mimetype": "text/x-python",
   "name": "python",
   "nbconvert_exporter": "python",
   "pygments_lexer": "ipython3",
   "version": "3.9.9"
  },
  "orig_nbformat": 4
 },
 "nbformat": 4,
 "nbformat_minor": 2
}
